{
 "cells": [
  {
   "cell_type": "markdown",
   "metadata": {},
   "source": [
    "# Functions, Scoping, Data Collections 1 & List Comprehensions"
   ]
  },
  {
   "cell_type": "markdown",
   "metadata": {},
   "source": [
    "## Tasks Today:\n",
    "\n",
    "\n",
    "1) Functions <br>\n",
    " &nbsp;&nbsp;&nbsp;&nbsp; a) User-Defined vs. Built-In Functions <br>\n",
    " &nbsp;&nbsp;&nbsp;&nbsp; b) Accepting Parameters <br>\n",
    " &nbsp;&nbsp;&nbsp;&nbsp; c) Default Parameters <br>\n",
    " &nbsp;&nbsp;&nbsp;&nbsp; d) Making an Argument Optional <br>\n",
    " &nbsp;&nbsp;&nbsp;&nbsp; e) Keyword Arguments <br>\n",
    " &nbsp;&nbsp;&nbsp;&nbsp; f) Returning Values <br>\n",
    " &nbsp;&nbsp;&nbsp;&nbsp; g) *args <br>\n",
    " &nbsp;&nbsp;&nbsp;&nbsp; h) Docstring <br>\n",
    " &nbsp;&nbsp;&nbsp;&nbsp; i) Using a User Function in a Loop <br>\n",
    "2) Scope\n",
    "3) Creating more User-Defined functions "
   ]
  },
  {
   "cell_type": "markdown",
   "metadata": {},
   "source": [
    "\n",
    "## Functions"
   ]
  },
  {
   "cell_type": "markdown",
   "metadata": {},
   "source": [
    "##### User-Defined vs. Built-In Functions"
   ]
  },
  {
   "cell_type": "code",
   "execution_count": 1,
   "metadata": {},
   "outputs": [
    {
     "name": "stdout",
     "output_type": "stream",
     "text": [
      "Hello\n",
      "<function sayHello at 0x7f7df05e60d0>\n"
     ]
    },
    {
     "data": {
      "text/plain": [
       "'Hello World'"
      ]
     },
     "execution_count": 1,
     "metadata": {},
     "output_type": "execute_result"
    }
   ],
   "source": [
    "#built-in function\n",
    "print(\"Hello\")\n",
    "\n",
    "#user-defined function\n",
    "def sayHello():\n",
    "    return \"Hello World\"\n",
    "\n",
    "#show the function call in memory\n",
    "print(sayHello)\n",
    "\n",
    "sayHello()"
   ]
  },
  {
   "cell_type": "markdown",
   "metadata": {},
   "source": [
    "##### Accepting Parameters"
   ]
  },
  {
   "cell_type": "code",
   "execution_count": 4,
   "metadata": {
    "scrolled": true
   },
   "outputs": [
    {
     "name": "stdout",
     "output_type": "stream",
     "text": [
      "Hello my last name is Huang and my first name is Vincent\n"
     ]
    }
   ],
   "source": [
    "# order matters\n",
    "# a variable can be any type of object\n",
    "\n",
    "def print_full_name (first_name, last_name):\n",
    "    return f\"Hello my last name is {last_name} and my first name is {first_name}\"\n",
    "\n",
    "print(print_full_name(\"Vincent\",\"Huang\"))"
   ]
  },
  {
   "cell_type": "markdown",
   "metadata": {},
   "source": [
    "##### Default Parameters"
   ]
  },
  {
   "cell_type": "code",
   "execution_count": 7,
   "metadata": {},
   "outputs": [
    {
     "name": "stdout",
     "output_type": "stream",
     "text": [
      "The name is Bond... James Bond.\n",
      "The name is Brown... James Brown.\n"
     ]
    }
   ],
   "source": [
    "#default patameters must come after non-default parameters at all times\n",
    "\n",
    "def agent_name(first_name, last_name = \"Bond\"):\n",
    "    return f\"The name is {last_name}... {first_name} {last_name}.\"\n",
    "\n",
    "print(agent_name(\"James\"))\n",
    "print(agent_name(\"James\", last_name = \"Brown\"))\n",
    "\n",
    "#dont do this\n",
    "#def print_agent_again(last_name = \"Bond\", first_name):\n",
    "#    return f\"The name is {last_name}... {first_name} {last_name}.\"\n",
    "\n",
    "#print(print_agent_again(\"Jimmy\"))"
   ]
  },
  {
   "cell_type": "code",
   "execution_count": 8,
   "metadata": {},
   "outputs": [
    {
     "name": "stdout",
     "output_type": "stream",
     "text": [
      "Your birthday is the 12 day of december and you were born in 2022.\n"
     ]
    }
   ],
   "source": [
    "def jan_birthday(day,year,month = 'January'):\n",
    "    return f\"Your birthday is the {day} day of {month} and you were born in {year}.\"\n",
    "print(jan_birthday(12,2022,\"december\"))"
   ]
  },
  {
   "cell_type": "markdown",
   "metadata": {},
   "source": [
    "##### Making an Argument Optional"
   ]
  },
  {
   "cell_type": "code",
   "execution_count": 12,
   "metadata": {},
   "outputs": [
    {
     "name": "stdout",
     "output_type": "stream",
     "text": [
      "Hello Mr.  Ed.\n",
      "Hello Mrs. Runner Ed.\n"
     ]
    }
   ],
   "source": [
    "def print_horse_name(first, middle=\"\", last='Ed'):\n",
    "    return f\"Hello {first} {middle} {last}.\"\n",
    "\n",
    "print(print_horse_name(\"Mr.\"))\n",
    "print(print_horse_name(\"Mrs.\",\"Runner\"))"
   ]
  },
  {
   "cell_type": "markdown",
   "metadata": {},
   "source": [
    "##### Keyword Arguments"
   ]
  },
  {
   "cell_type": "code",
   "execution_count": 14,
   "metadata": {},
   "outputs": [
    {
     "name": "stdout",
     "output_type": "stream",
     "text": [
      "Bruce's power is Money.\n"
     ]
    }
   ],
   "source": [
    "def print_hero(name, power=\"flying\"):\n",
    "    return f\"{name}'s power is {power}.\"\n",
    "\n",
    "print(print_hero(power = 'Money', name = \"Bruce\"))"
   ]
  },
  {
   "cell_type": "markdown",
   "metadata": {},
   "source": [
    "# Creating a start, stop, step function"
   ]
  },
  {
   "cell_type": "code",
   "execution_count": 16,
   "metadata": {},
   "outputs": [
    {
     "name": "stdout",
     "output_type": "stream",
     "text": [
      "1\n",
      "3\n",
      "5\n",
      "7\n",
      "9\n",
      "11\n",
      "13\n"
     ]
    }
   ],
   "source": [
    "#create a function \n",
    "def my_range(stop, start = 0, step = 1):\n",
    "    for i in range(start, stop, step):\n",
    "        print(i)\n",
    "        \n",
    "my_range(15,1,2)"
   ]
  },
  {
   "cell_type": "markdown",
   "metadata": {},
   "source": [
    "##### Returning Values"
   ]
  },
  {
   "cell_type": "code",
   "execution_count": 18,
   "metadata": {},
   "outputs": [
    {
     "data": {
      "text/plain": [
       "100"
      ]
     },
     "execution_count": 18,
     "metadata": {},
     "output_type": "execute_result"
    }
   ],
   "source": [
    "def add_nums(num1, num2):\n",
    "    return num1 + num2\n",
    "\n",
    "add_nums(56,44)"
   ]
  },
  {
   "cell_type": "markdown",
   "metadata": {},
   "source": [
    "##### *args / **kwargs (keyword arguments)"
   ]
  },
  {
   "cell_type": "code",
   "execution_count": 19,
   "metadata": {},
   "outputs": [
    {
     "name": "stdout",
     "output_type": "stream",
     "text": [
      "2\n",
      "(10, 'megazord')\n",
      "{'names': ['terrell', 'ryan'], 'subject': 'python'}\n"
     ]
    }
   ],
   "source": [
    "# *args stands for arguments (**kwargs are keyword arguments) & takes any number of arguments as parameters\n",
    "# must be last if other parameters are present\n",
    "\n",
    "def print_args(num1, *args, **kwargs):\n",
    "    print(num1)\n",
    "    print(args)\n",
    "    print(kwargs)\n",
    "    \n",
    "print_args(2, 10, \"megazord\", names=[\"terrell\",\"ryan\"],subject = \"python\")\n"
   ]
  },
  {
   "cell_type": "code",
   "execution_count": 22,
   "metadata": {},
   "outputs": [
    {
     "name": "stdout",
     "output_type": "stream",
     "text": [
      "(10, 10) {'names': ['vin', 'hu']}\n"
     ]
    }
   ],
   "source": [
    "# write a function that accepts args and kwargs and prints out each argument and keyword arguemnt on its own line\n",
    "def trial(*args, **kwargs):\n",
    "    print(args, kwargs)\n",
    "\n",
    "trial(10,10, names=[\"vin\", \"hu\"])"
   ]
  },
  {
   "cell_type": "markdown",
   "metadata": {},
   "source": [
    "##### Docstring"
   ]
  },
  {
   "cell_type": "code",
   "execution_count": 23,
   "metadata": {},
   "outputs": [],
   "source": [
    "def print_names(list_1):\n",
    "    \"\"\"\n",
    "        print_names(list_1)\n",
    "        Function requires a list to be passed as a parameter\n",
    "        and will print the contens of the lsit. Expecting\n",
    "        a list of names(strings) to be passed.\n",
    "    \"\"\"\n",
    "    for name in list_1:\n",
    "        print(name)"
   ]
  },
  {
   "cell_type": "code",
   "execution_count": 24,
   "metadata": {},
   "outputs": [
    {
     "name": "stdout",
     "output_type": "stream",
     "text": [
      "Sylvester\n",
      "Tweety\n"
     ]
    }
   ],
   "source": [
    "print_names([\"Sylvester\", \"Tweety\"])"
   ]
  },
  {
   "cell_type": "markdown",
   "metadata": {},
   "source": [
    "##### Using a User Function in a Loop"
   ]
  },
  {
   "cell_type": "code",
   "execution_count": 25,
   "metadata": {},
   "outputs": [
    {
     "name": "stdout",
     "output_type": "stream",
     "text": [
      "What do you want to do?quit\n",
      "Your answer is quit\n",
      "Ready to quit? quit\n"
     ]
    },
    {
     "ename": "KeyboardInterrupt",
     "evalue": "Interrupted by user",
     "output_type": "error",
     "traceback": [
      "\u001b[0;31m---------------------------------------------------------------------------\u001b[0m",
      "\u001b[0;31mKeyboardInterrupt\u001b[0m                         Traceback (most recent call last)",
      "\u001b[0;32m/var/folders/sx/cp9j2vnd3n93l_cw05f7vlc40000gn/T/ipykernel_5787/49249760.py\u001b[0m in \u001b[0;36m<module>\u001b[0;34m\u001b[0m\n\u001b[1;32m      3\u001b[0m \u001b[0;34m\u001b[0m\u001b[0m\n\u001b[1;32m      4\u001b[0m \u001b[0;32mwhile\u001b[0m \u001b[0;32mTrue\u001b[0m\u001b[0;34m:\u001b[0m\u001b[0;34m\u001b[0m\u001b[0;34m\u001b[0m\u001b[0m\n\u001b[0;32m----> 5\u001b[0;31m     \u001b[0mask\u001b[0m \u001b[0;34m=\u001b[0m \u001b[0minput\u001b[0m\u001b[0;34m(\u001b[0m\u001b[0;34m\"What do you want to do?\"\u001b[0m\u001b[0;34m)\u001b[0m\u001b[0;34m\u001b[0m\u001b[0;34m\u001b[0m\u001b[0m\n\u001b[0m\u001b[1;32m      6\u001b[0m \u001b[0;34m\u001b[0m\u001b[0m\n\u001b[1;32m      7\u001b[0m     \u001b[0mprintInput\u001b[0m\u001b[0;34m(\u001b[0m\u001b[0mask\u001b[0m\u001b[0;34m)\u001b[0m\u001b[0;34m\u001b[0m\u001b[0;34m\u001b[0m\u001b[0m\n",
      "\u001b[0;32m~/opt/anaconda3/lib/python3.9/site-packages/ipykernel/kernelbase.py\u001b[0m in \u001b[0;36mraw_input\u001b[0;34m(self, prompt)\u001b[0m\n\u001b[1;32m   1004\u001b[0m                 \u001b[0;34m\"raw_input was called, but this frontend does not support input requests.\"\u001b[0m\u001b[0;34m\u001b[0m\u001b[0;34m\u001b[0m\u001b[0m\n\u001b[1;32m   1005\u001b[0m             )\n\u001b[0;32m-> 1006\u001b[0;31m         return self._input_request(\n\u001b[0m\u001b[1;32m   1007\u001b[0m             \u001b[0mstr\u001b[0m\u001b[0;34m(\u001b[0m\u001b[0mprompt\u001b[0m\u001b[0;34m)\u001b[0m\u001b[0;34m,\u001b[0m\u001b[0;34m\u001b[0m\u001b[0;34m\u001b[0m\u001b[0m\n\u001b[1;32m   1008\u001b[0m             \u001b[0mself\u001b[0m\u001b[0;34m.\u001b[0m\u001b[0m_parent_ident\u001b[0m\u001b[0;34m[\u001b[0m\u001b[0;34m\"shell\"\u001b[0m\u001b[0;34m]\u001b[0m\u001b[0;34m,\u001b[0m\u001b[0;34m\u001b[0m\u001b[0;34m\u001b[0m\u001b[0m\n",
      "\u001b[0;32m~/opt/anaconda3/lib/python3.9/site-packages/ipykernel/kernelbase.py\u001b[0m in \u001b[0;36m_input_request\u001b[0;34m(self, prompt, ident, parent, password)\u001b[0m\n\u001b[1;32m   1049\u001b[0m             \u001b[0;32mexcept\u001b[0m \u001b[0mKeyboardInterrupt\u001b[0m\u001b[0;34m:\u001b[0m\u001b[0;34m\u001b[0m\u001b[0;34m\u001b[0m\u001b[0m\n\u001b[1;32m   1050\u001b[0m                 \u001b[0;31m# re-raise KeyboardInterrupt, to truncate traceback\u001b[0m\u001b[0;34m\u001b[0m\u001b[0;34m\u001b[0m\u001b[0m\n\u001b[0;32m-> 1051\u001b[0;31m                 \u001b[0;32mraise\u001b[0m \u001b[0mKeyboardInterrupt\u001b[0m\u001b[0;34m(\u001b[0m\u001b[0;34m\"Interrupted by user\"\u001b[0m\u001b[0;34m)\u001b[0m \u001b[0;32mfrom\u001b[0m \u001b[0;32mNone\u001b[0m\u001b[0;34m\u001b[0m\u001b[0;34m\u001b[0m\u001b[0m\n\u001b[0m\u001b[1;32m   1052\u001b[0m             \u001b[0;32mexcept\u001b[0m \u001b[0mException\u001b[0m\u001b[0;34m:\u001b[0m\u001b[0;34m\u001b[0m\u001b[0;34m\u001b[0m\u001b[0m\n\u001b[1;32m   1053\u001b[0m                 \u001b[0mself\u001b[0m\u001b[0;34m.\u001b[0m\u001b[0mlog\u001b[0m\u001b[0;34m.\u001b[0m\u001b[0mwarning\u001b[0m\u001b[0;34m(\u001b[0m\u001b[0;34m\"Invalid Message:\"\u001b[0m\u001b[0;34m,\u001b[0m \u001b[0mexc_info\u001b[0m\u001b[0;34m=\u001b[0m\u001b[0;32mTrue\u001b[0m\u001b[0;34m)\u001b[0m\u001b[0;34m\u001b[0m\u001b[0;34m\u001b[0m\u001b[0m\n",
      "\u001b[0;31mKeyboardInterrupt\u001b[0m: Interrupted by user"
     ]
    }
   ],
   "source": [
    "def printInput(answer):\n",
    "    print(f\"Your answer is {answer}\")\n",
    "    \n",
    "while True:\n",
    "    ask = input(\"What do you want to do?\")\n",
    "    \n",
    "    printInput(ask)\n",
    "    \n",
    "    response = input(\"Ready to quit? \")\n",
    "    if response.lower() == \"yes\":\n",
    "        break"
   ]
  },
  {
   "cell_type": "markdown",
   "metadata": {},
   "source": [
    "## Function Exercises <br>\n",
    "### Exercise 1\n",
    "<p>Write a function that loops through a list of first_names and a list of last_names, combines the two and return a list of full_names</p>"
   ]
  },
  {
   "cell_type": "code",
   "execution_count": 33,
   "metadata": {},
   "outputs": [
    {
     "name": "stdout",
     "output_type": "stream",
     "text": [
      "['John Smith', 'John Smith', 'John Williams', 'John Bell', 'Evan Smith', 'Evan Smith', 'Evan Williams', 'Evan Bell', 'Jordan Smith', 'Jordan Smith', 'Jordan Williams', 'Jordan Bell', 'Max Smith', 'Max Smith', 'Max Williams', 'Max Bell']\n"
     ]
    },
    {
     "data": {
      "text/plain": [
       "['John Smith', 'Evan Smith', 'Jordan Williams', 'Max Bell']"
      ]
     },
     "execution_count": 33,
     "metadata": {},
     "output_type": "execute_result"
    }
   ],
   "source": [
    "first_name = ['John', 'Evan', 'Jordan', 'Max']\n",
    "last_name = ['Smith', 'Smith', 'Williams', 'Bell']\n",
    "\n",
    "# Output: ['John Smith', 'Evan Smith', 'Jordan Williams', 'Max Bell']\n",
    "\n",
    "def new_list():\n",
    "    names = []\n",
    "    for f in first_name:\n",
    "        for l in last_name:\n",
    "            full_name = f + \" \" + l\n",
    "            names.append(full_name)\n",
    "    \n",
    "    print(names)\n",
    "    \n",
    "new_list()\n",
    "\n",
    "\n",
    "def get_full_name(first, last):\n",
    "    \"\"\"Combine first and last to make full name\"\"\"\n",
    "    full_name = f\"{first} {last}\"\n",
    "    return full_name.title()\n",
    "\n",
    "\n",
    "def full_names(firsts, lasts):\n",
    "    fulls = []\n",
    "    for i in range(len(firsts)):\n",
    "        whole_name = get_full_name(firsts[i],lasts[i])\n",
    "        fulls.append(whole_name)\n",
    "    return fulls\n",
    "\n",
    "full_names(first_name, last_name)"
   ]
  },
  {
   "cell_type": "code",
   "execution_count": 37,
   "metadata": {},
   "outputs": [
    {
     "data": {
      "text/plain": [
       "['John Smith', 'Evan Smith', 'Jordan Williams', 'Max Bell']"
      ]
     },
     "execution_count": 37,
     "metadata": {},
     "output_type": "execute_result"
    }
   ],
   "source": [
    "# another way to answer the problem\n",
    "def full_name_getter(firsts, lasts):\n",
    "    full_names = []\n",
    "    for i in range(len(firsts)):\n",
    "        full_names.append(firsts[i]+\" \"+lasts[i])\n",
    "    return full_names\n",
    "\n",
    "full_name_getter(first_name, last_name)\n",
    "\n",
    "\n",
    "#comprehension\n",
    "def full_getter(firsts,lasts):\n",
    "    return [firsts[i]+\" \"+lasts[i] for i in range(len(firsts))]\n",
    "\n",
    "full_getter(first_name, last_name)"
   ]
  },
  {
   "cell_type": "markdown",
   "metadata": {},
   "source": [
    "### Exercise 2\n",
    "Create a function that alters all values in the given list by subtracting 5 and then doubling them."
   ]
  },
  {
   "cell_type": "code",
   "execution_count": 49,
   "metadata": {},
   "outputs": [
    {
     "data": {
      "text/plain": [
       "[0, 10, 20, 30, -4]"
      ]
     },
     "execution_count": 49,
     "metadata": {},
     "output_type": "execute_result"
    }
   ],
   "source": [
    "input_list = [5,10,15,20,3]\n",
    "# output = [0,10,20,30,-4]\n",
    "\n",
    "\n",
    "def sub_double(a_list):\n",
    "    output = []\n",
    "    for i in a_list:\n",
    "        new_i = (i - 5) * 2\n",
    "        output.append(new_i)\n",
    "    return output\n",
    "\n",
    "sub_double(input_list)\n"
   ]
  },
  {
   "cell_type": "code",
   "execution_count": 50,
   "metadata": {},
   "outputs": [
    {
     "data": {
      "text/plain": [
       "[0, 10, 20, 30, -4]"
      ]
     },
     "execution_count": 50,
     "metadata": {},
     "output_type": "execute_result"
    }
   ],
   "source": [
    "def double(a_list):\n",
    "    return [((i-5)*2) for i in a_list]\n",
    "\n",
    "double(input_list)"
   ]
  },
  {
   "cell_type": "markdown",
   "metadata": {},
   "source": [
    "### Exercise 3\n",
    "Create a function that takes in a list of strings and filters out the strings less than 5 characters"
   ]
  },
  {
   "cell_type": "code",
   "execution_count": 63,
   "metadata": {},
   "outputs": [
    {
     "data": {
      "text/plain": [
       "['Sheldon', 'Leonard', 'Howard', 'Stuart']"
      ]
     },
     "execution_count": 63,
     "metadata": {},
     "output_type": "execute_result"
    }
   ],
   "source": [
    "string_list = ['Sheldon','Penny','Leonard','Howard','Raj','Amy','Stuart']\n",
    "# output = ['Sheldon', 'Leonard','Howard','Stuart']\n",
    "def filter_string(a_list):\n",
    "    return [i for i in a_list if len(i)>5]\n",
    "\n",
    "filter_string(string_list)"
   ]
  },
  {
   "cell_type": "code",
   "execution_count": 65,
   "metadata": {},
   "outputs": [
    {
     "data": {
      "text/plain": [
       "[]"
      ]
     },
     "execution_count": 65,
     "metadata": {},
     "output_type": "execute_result"
    }
   ],
   "source": [
    "string_list = ['Sheldon','Pnny','Leonard','Hwrd','Rj','Amy','Strt']\n",
    "# output = ['Sheldon','Leonard','Amy']\n",
    "\n",
    "#"
   ]
  },
  {
   "cell_type": "markdown",
   "metadata": {},
   "source": [
    "### Exercise 4\n",
    "Create a function that accepts a list as a parameter and returns a dictionary containing the list items as it's keys, and the number of times they appear in the list as the values"
   ]
  },
  {
   "cell_type": "code",
   "execution_count": 74,
   "metadata": {},
   "outputs": [
    {
     "data": {
      "text/plain": [
       "{'Harry': 3, 'Hermione': 2, 'Ron': 4, 'Dobby': 1, 'Draco': 1, 'Luna': 1}"
      ]
     },
     "execution_count": 74,
     "metadata": {},
     "output_type": "execute_result"
    }
   ],
   "source": [
    "example_list = [\"Harry\", 'Hermione','Harry','Ron','Dobby','Draco','Luna','Harry','Hermione','Ron','Ron','Ron']\n",
    "\n",
    "# output = {\n",
    "#     \"Harry\":3,\n",
    "#     \"Hermione\":2,\n",
    "#     \"Ron\":4,\n",
    "#     \"Dobby\":1,\n",
    "#     \"Draco\":1,\n",
    "#     \"Luna\": 1\n",
    "# }\n",
    "\n",
    "def output_dict(a_list):\n",
    "    output = dict()\n",
    "    for i in a_list:\n",
    "        output[i]= a_list.count(i)\n",
    "    return output\n",
    "    \n",
    "output_dict(example_list)"
   ]
  },
  {
   "cell_type": "code",
   "execution_count": 76,
   "metadata": {},
   "outputs": [
    {
     "data": {
      "text/plain": [
       "{'Harry': 3, 'Hermione': 2, 'Ron': 4, 'Dobby': 1, 'Draco': 1, 'Luna': 1}"
      ]
     },
     "execution_count": 76,
     "metadata": {},
     "output_type": "execute_result"
    }
   ],
   "source": [
    "example_list = [\"Harry\", 'Hermione','Harry','Ron','Dobby','Draco','Luna','Harry','Hermione','Ron','Ron','Ron']\n",
    "\n",
    "def output_dict2(a_list):\n",
    "    return {i:a_list.count(i) for i in a_list}\n",
    "\n",
    "output_dict2(example_list)"
   ]
  },
  {
   "cell_type": "markdown",
   "metadata": {},
   "source": [
    "\n",
    "\n",
    "## Scope <br>\n",
    "<p>Scope refers to the ability to access variables, different types of scope include:<br>a) Global<br>b) Function (local)<br>c) Class (local)</p>"
   ]
  },
  {
   "cell_type": "code",
   "execution_count": 79,
   "metadata": {},
   "outputs": [
    {
     "name": "stdout",
     "output_type": "stream",
     "text": [
      "3\n",
      "6\n"
     ]
    }
   ],
   "source": [
    "# placement of variable declaration matters\n",
    "\n",
    "number = 3 # Gloal Variable\n",
    "\n",
    "def myFunc():\n",
    "    num_3 = 6 # Local Function Variable\n",
    "    return num_3\n",
    "\n",
    "print(number)\n",
    "return_num = myFunc()\n",
    "print(return_num)"
   ]
  },
  {
   "cell_type": "markdown",
   "metadata": {},
   "source": [
    "# Homework Exercises"
   ]
  },
  {
   "cell_type": "markdown",
   "metadata": {},
   "source": [
    "## Exercise 1 <br>\n",
    "<p>Create a function that returns the sum of the two lowest positive numbers given an array of minimum 4 positive integers. No floats or non-positive integers will be passed.\n",
    "    "
   ]
  },
  {
   "cell_type": "code",
   "execution_count": 81,
   "metadata": {},
   "outputs": [
    {
     "data": {
      "text/plain": [
       "7"
      ]
     },
     "execution_count": 81,
     "metadata": {},
     "output_type": "execute_result"
    }
   ],
   "source": [
    "example = [19, 5, 42, 2, 77]\n",
    "#output = 7\n",
    "\n",
    "def sum_low(a_list):\n",
    "    lowest = min(a_list)\n",
    "    a_list.remove(lowest)\n",
    "    second_lowest = min(a_list)\n",
    "    return lowest + second_lowest\n",
    "\n",
    "sum_low(example)\n",
    "        \n"
   ]
  },
  {
   "cell_type": "markdown",
   "metadata": {},
   "source": [
    "## Exercise 2 <br>\n",
    "<p>Given an array of integers.<br>\n",
    "\n",
    "Return an array, where the first element is the count of positives numbers and the second element is sum of negative numbers. 0 is neither positive nor negative.<br>\n",
    "\n",
    "If the input array is empty or null, return an empty array.<br>\n",
    "</p>"
   ]
  },
  {
   "cell_type": "code",
   "execution_count": 91,
   "metadata": {},
   "outputs": [
    {
     "data": {
      "text/plain": [
       "[10, -65]"
      ]
     },
     "execution_count": 91,
     "metadata": {},
     "output_type": "execute_result"
    }
   ],
   "source": [
    "example_input = [1, 2, 3, 4, 5, 6, 7, 8, 9, 10, -11, -12, -13, -14, -15]\n",
    "# output  = [10,-65] \n",
    "\n",
    "def count_sum(a_list):\n",
    "    count = 0\n",
    "    sum_neg = 0\n",
    "    for i in a_list:\n",
    "        if i > 0:\n",
    "            count += 1\n",
    "        elif i < 0:\n",
    "            sum_neg = sum_neg + i\n",
    "    return [count, sum_neg]\n",
    "\n",
    "count_sum(example_input)"
   ]
  },
  {
   "cell_type": "code",
   "execution_count": null,
   "metadata": {},
   "outputs": [],
   "source": []
  }
 ],
 "metadata": {
  "kernelspec": {
   "display_name": "Python 3 (ipykernel)",
   "language": "python",
   "name": "python3"
  },
  "language_info": {
   "codemirror_mode": {
    "name": "ipython",
    "version": 3
   },
   "file_extension": ".py",
   "mimetype": "text/x-python",
   "name": "python",
   "nbconvert_exporter": "python",
   "pygments_lexer": "ipython3",
   "version": "3.9.7"
  }
 },
 "nbformat": 4,
 "nbformat_minor": 2
}
